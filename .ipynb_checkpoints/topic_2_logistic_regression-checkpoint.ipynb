{
 "cells": [
  {
   "cell_type": "markdown",
   "id": "992d9986",
   "metadata": {},
   "source": [
    "# Topic 2 -- Logistic Regression\n",
    "\n",
    "Welcome to topic 2 of the Beginner AI Course! In this notebook, we are going to explore the **classification** problem in supervised learning, how **logistic regression** triumphs over **linear regression** in this area, as well as see logistic regression in action predicting the types of Pokemon!"
   ]
  },
  {
   "cell_type": "markdown",
   "id": "20f0d0da",
   "metadata": {},
   "source": [
    "## Table of Contents\n",
    "1. [Installing Dependencies](#installing)\n",
    "\n",
    "\n",
    "2. [Linear Regression vs Classification](#linregfail)\n",
    "\n",
    "\n",
    "3. [Logistic Regression](#logreg)\n",
    "    - [Sigmoid Activation Function](#sigmoid)\n",
    "    - [Cost Function](#cost)\n",
    "    - [Putting it all together](#putting)\n",
    "   \n",
    "   \n",
    "4. [Binary Classification](#binary)\n",
    "    - [Pokemon Classification Problem](#pokemon)\n",
    "    - [Choosing our Features](#choosing)\n",
    "    - [Imbalanced Classes](#imbalanced)\n",
    "    - [Training our Logistic Regression Model](#training1)\n",
    "    - [Confusion Matrix](#conf)\n",
    "    - [Observations](#obs1)\n",
    "    \n",
    "    \n",
    "5. [Multi-Class Classification](#multi)\n",
    "    - [One vs All](#onevall)\n",
    "    - [One-Hot Encoding](#onehot)\n",
    "    - [Choosing our Features](#choosingf)\n",
    "    - [Choosing our Labels](#choosingl)\n",
    "    - [Training a Multi-Class Classifier](#train_m)\n",
    "    - [Observations](#obs2)"
   ]
  },
  {
   "cell_type": "markdown",
   "id": "3ab1ef81",
   "metadata": {},
   "source": [
    "## Installing Dependencies <a name=\"installing\">\n",
    "\n",
    "Lets first install the dependencies needed for this demo. Here are a list of the dependencies and descriptions on what they are for:\n",
    "\n",
    "- **Numpy**: Powerful linear regression library\n",
    "- **Pandas**: Used for data visualization and organization\n",
    "- **SciKitLearn**: Maching learning library containing the `LogisticRegression` class\n",
    "- **Bokeh**, **MatPlotLib**, and  **SeaBorn**: Plots and Graphs for visualizing the data\n",
    "- **disp_utils**: A custom module for displaying the demo visuals"
   ]
  },
  {
   "cell_type": "code",
   "execution_count": null,
   "id": "ae25d6a4",
   "metadata": {},
   "outputs": [],
   "source": [
    "pass"
   ]
  },
  {
   "cell_type": "markdown",
   "id": "b5fcece7",
   "metadata": {},
   "source": [
    "## Linear Regression vs Classification <a name=\"linregfail\">\n",
    "\n",
    "Lets set the scene: you are trying to train a machine learning model that will predict whether you get admitted into the **NBA** based on your **height**. Notice that this is a classification problem, as there are two discrete values that the model is allowed to output: Either **yes**, you get admitted, or **no**, you are rejected. We will denote $\\hat{y}$ as the output, and it could only take on **1 or 0**, 1 being yes and 0 being no. Lets display a plot of what a hypothetical dataset would look like:"
   ]
  },
  {
   "cell_type": "code",
   "execution_count": null,
   "id": "30791b76",
   "metadata": {
    "scrolled": false
   },
   "outputs": [],
   "source": [
    "display_height_dataset()"
   ]
  },
  {
   "cell_type": "markdown",
   "id": "cf33c83f",
   "metadata": {},
   "source": [
    "Here, we can see that at around 1.8m, you will be admitted into the NBA. After running linear regression, we are able to fit a linear hypothesis function to the data:"
   ]
  },
  {
   "cell_type": "code",
   "execution_count": null,
   "id": "cda2e1f7",
   "metadata": {},
   "outputs": [],
   "source": [
    "display_height_line1()"
   ]
  },
  {
   "cell_type": "markdown",
   "id": "efc8a52d",
   "metadata": {},
   "source": [
    "One thing to note is that the linear hypothesis function is not discrete, which is okay, because we can assign the output value of the function as a **probability** that you will be admitted given your height. For example, if you are 1.6 metres tall, there is roughly a 10% probability that you will be admitted, whereas if you are 2 meters tall, there is a 90% probability you will be admitted. We will use this probability metric to make a cut-off: **all probabilities greater or equal to 50% we will predict $\\hat{y} = 1$, and all probabilities less than 50% we will predict $\\hat{y} = 0$.** \n",
    "\n",
    "However, there are a few problems to discuss: if your height is less than 1.55 metres, then your probability of getting admitted is less than 0%, and if your height is over 2.05 metres, your probability is greater than 100%. Furthermore, lets say we add some **outliers**; lets add the height of 1.0 metres to our dataset:"
   ]
  },
  {
   "cell_type": "code",
   "execution_count": null,
   "id": "aa7eba19",
   "metadata": {},
   "outputs": [],
   "source": [
    "display_height_line2()"
   ]
  },
  {
   "cell_type": "markdown",
   "id": "5071b4dd",
   "metadata": {},
   "source": [
    "Here, we can see that adding an outlier has significantly shifted the **decision boundary**. Before, a height of 1.8 meters and above will have a high likelyhood of getting admitted, whereas now, with the introduction of one datapoint, the acceptable height has decreased to 1.67m.\n",
    "\n",
    "**Therefore, Linear Regression cannot be used for classification problems.**"
   ]
  },
  {
   "cell_type": "markdown",
   "id": "e679291e",
   "metadata": {},
   "source": [
    "## Logistic Regression <a name=\"logreg\">\n",
    "\n",
    "Despite the name \"regression\", logistic regression is an algorithm used for classification problems. The base concept is **very similar to linear regression**; you still have a linear feed forward step. This time I will use the letter $z$ to denote the linear output:\n",
    "\n",
    "<div style=\"text-align: center\">\n",
    "    <div>\n",
    "    &nbsp;\n",
    "    </div>\n",
    " $z = wx + b$\n",
    "</div>\n",
    "\n",
    "### Sigmoid Activation Function <a name=\"sigmoid\">\n",
    "Now, however, we input the linear results into the **sigmoid function**. The sigmoid function is one type of **activation function** that bounds the output between 0 and 1, which eliminates probabilities of greater than 1 or less than 0. Also, using the sigmoid activation function ensures that the **decision boundary** would not get shifted due to **outliers**. \n",
    "    \n",
    "The sigmoid function is represented by the formula down below:\n",
    "\n",
    "<div style=\"text-align: center\">\n",
    "    <div>\n",
    "    &nbsp;\n",
    "    </div>\n",
    " $\\begin{align}\\sigma(z) = {1\\over 1 + e^{-z}}\\end{align}$\n",
    "</div>\n",
    "    \n",
    "To visualize the sigmoid function, lets create a sigmoid function down below:"
   ]
  },
  {
   "cell_type": "code",
   "execution_count": null,
   "id": "97e31621",
   "metadata": {},
   "outputs": [],
   "source": [
    "def sigmoid(z):\n",
    "    pass"
   ]
  },
  {
   "cell_type": "code",
   "execution_count": null,
   "id": "7363b389",
   "metadata": {},
   "outputs": [],
   "source": [
    "display_func(sigmoid)"
   ]
  },
  {
   "cell_type": "markdown",
   "id": "849d61ff",
   "metadata": {},
   "source": [
    "### Cost Function <a name=\"cost\">\n",
    "    \n",
    "Previously, we learned that Linear Regression uses the **Mean Squared Error (MSE)** cost function to measure the error in the fit. While MSE works great for linear regression, it does not work very well for logistic regression. This is because due to the **sigmoid function** used in logistic regression, the resulting cost function is **non-convex**. Take a look at the figures below showing the non-convex nature of MSE used with the sigmoid function:"
   ]
  },
  {
   "cell_type": "code",
   "execution_count": null,
   "id": "b8ad3ab5",
   "metadata": {},
   "outputs": [],
   "source": [
    "disp_convex()"
   ]
  },
  {
   "cell_type": "markdown",
   "id": "55b49d7f",
   "metadata": {},
   "source": [
    "Non-convex functions can be problematic to **gradient descent**. To make the cost convex, we need a different cost function:\n",
    "\n",
    "<div style=\"text-align: center\">\n",
    "    <div>\n",
    "    &nbsp;\n",
    "    </div>\n",
    " $\\begin{align}C(w, b) = {1\\over m} \\sum\\limits_{i=1}^m -y^{(i)}\\log(a^{(i)})-(1-y^{(i)})\\log(1-a^{(i)})\\end{align}$\n",
    "</div>"
   ]
  },
  {
   "cell_type": "markdown",
   "id": "a6535363",
   "metadata": {},
   "source": [
    "This cost function is called **Binary Cross Entropy (BCE)**, and is the cost function of choice for logistic regression. This cost function is guaranteed to be convex when used with the **sigmoid activation function**."
   ]
  },
  {
   "cell_type": "markdown",
   "id": "eefb2e9b",
   "metadata": {},
   "source": [
    "### Putting it all together <a name=\"putting\">\n",
    "\n",
    "All in all, how logistic regression learns is very similar to linear regression, other than the activation function and the cost function. Here's a summary of how it all works, shown in **pseudo-code**:\n",
    "\n",
    "<div style=\"text-align: center\">\n",
    "    <div>\n",
    "    &nbsp;\n",
    "    </div>\n",
    "</div>\n",
    "\n",
    "\n",
    "```python\n",
    "# Linear Regression:\n",
    "for i in range(iterations):\n",
    "    prediction = w*x + b\n",
    "    \n",
    "    cost = MSE_cost_function(prediction, label)\n",
    "    slopes = cost.get_slopes()\n",
    "    update(w, b).with(slopes)\n",
    "    \n",
    "# Logistic Regression:\n",
    "for i in range(iterations):\n",
    "    z = w*x + b\n",
    "    prediction = sigmoid(z)\n",
    "    \n",
    "    cost = BCE_cost_function(prediction, label)\n",
    "    slopes = cost.get_slopes()\n",
    "    update(w, b).with(slopes)\n",
    "```\n",
    "    \n",
    "\n",
    "[https://www.desmos.com/calculator/z4petl2oxa](https://www.desmos.com/calculator/z4petl2oxa)\n",
    "    \n",
    "[https://www.geogebra.org/3d/yku5x5tf](https://www.geogebra.org/3d/yku5x5tf)\n",
    "    \n",
    "---"
   ]
  },
  {
   "cell_type": "markdown",
   "id": "8fc4262f",
   "metadata": {},
   "source": [
    "## Binary Classification <a name=\"binary\">\n",
    "    \n",
    "Binary Classification, as the name suggests, predicts on an output space of **two** states. An example of which is NBA Admittance, where the two possible states are either **yes** or **no**. This is the most basic form of logistic regression, and is the basis of more advanced forms of logistic regression.\n",
    "    \n",
    "### Pokemon Classification Problem <a name=\"pokemon\">\n",
    "Lets say we were to build a classifier to classify whether or not a Pokemon is **legendary** or not. This is a perfect example of binary classification. Let's load in the `pokemon.csv` file, which we will use for the rest of this notebook."
   ]
  },
  {
   "cell_type": "code",
   "execution_count": null,
   "id": "cee7d328",
   "metadata": {},
   "outputs": [],
   "source": [
    "pass"
   ]
  },
  {
   "cell_type": "markdown",
   "id": "65b1d5bf",
   "metadata": {},
   "source": [
    "Taking a look at the dataset, notice that the rows are **truncated**. We can see the first few examples, as well as the last. Looking at the `is_legendary` column, we notice that all of the legendary pokemons are arranged at the bottom of our dataset. In order get a **uniform distribution** of either class in the training and testing sets, we need to **shuffle** our dataframe."
   ]
  },
  {
   "cell_type": "code",
   "execution_count": null,
   "id": "e1609031",
   "metadata": {},
   "outputs": [],
   "source": [
    "pass"
   ]
  },
  {
   "cell_type": "markdown",
   "id": "0dd50d96",
   "metadata": {},
   "source": [
    "### Choosing our Features <a name=\"choosing\">\n",
    "    \n",
    "Taking a look at the dataset, there are quite a few features that we can include into our training and testing sets. However, we probably do not need to include all of the features, as many features are redundant. Since we are training a classifier to classify whether or not a Pokemon is **legendary**, we can possibly choose the features `sp_attack`, `sp_defense`, and `weight_kg`."
   ]
  },
  {
   "cell_type": "code",
   "execution_count": null,
   "id": "b9467791",
   "metadata": {},
   "outputs": [],
   "source": [
    "pass"
   ]
  },
  {
   "cell_type": "markdown",
   "id": "1e79b56e",
   "metadata": {},
   "source": [
    "### Imbalanced Classes <a name=\"imbalanced\">\n",
    "\n",
    "#### *Intuition*\n",
    "\n",
    "> *Suppose you were training a classifier for predicting whether a person owns a mansion or not. You gather together a dataset of 100 examples, containing features such as income, occupation, etc. In your dataset, 99 people do not own mansions, and 1 person owns a mansion. You train a classifier, and is impressed by the __98.5%__ accuracy that you obtained! However, I come in and present a model that performs better than yours! I achieved 99% accuracy by __predicting all zeros__. It might get that one instance wrong, but the other 99 instances it is correct.*\n",
    "\n",
    "Sometimes in the real world, it is **not feasible** to get data with **perfectly balanced classes**. When the classes are not balanced, you will often train models that will be **biased** towards the more frequent class and simply not predict on the less frequent class. Here, we print the number of legendary Pokemons and the number of non-legendary Pokemons."
   ]
  },
  {
   "cell_type": "code",
   "execution_count": null,
   "id": "2d9922ee",
   "metadata": {},
   "outputs": [],
   "source": [
    "pass"
   ]
  },
  {
   "cell_type": "markdown",
   "id": "57dd7b5b",
   "metadata": {},
   "source": [
    "The classes in this case are quite **skewed** towards the non-legendary Pokemons in this case. We will resolve that when setting up the logistic regression model.\n",
    "\n",
    "### Training our Logistic Regression Model <a name=\"training1\">\n",
    "\n",
    "Training the Logistic Regression model is quite similar to training a Linear Regression model as we have seen before. This time, we are going to use the `LogisticRegressionCV`class instead of the `LinearRegression` class.\n"
   ]
  },
  {
   "cell_type": "code",
   "execution_count": null,
   "id": "cd1baa72",
   "metadata": {},
   "outputs": [],
   "source": [
    "pass"
   ]
  },
  {
   "cell_type": "markdown",
   "id": "0bc5c63d",
   "metadata": {},
   "source": [
    "Remember the unbalanced classes mentioned above? Here, we are going to pass in the parameter `class_weight='balanced'` into the `LogisticRegressionCV` class, which would automatically balance out the classes by **emphasizing the importance of the less frequent class**."
   ]
  },
  {
   "cell_type": "code",
   "execution_count": null,
   "id": "2f1987dc",
   "metadata": {},
   "outputs": [],
   "source": [
    "pass"
   ]
  },
  {
   "cell_type": "code",
   "execution_count": null,
   "id": "ade254f0",
   "metadata": {},
   "outputs": [],
   "source": [
    "pass"
   ]
  },
  {
   "cell_type": "markdown",
   "id": "522cd435",
   "metadata": {},
   "source": [
    "### Confusion Matrix <a name=\"conf\">\n",
    "\n",
    "Often times in classification scenarios, we will evaluate our models by running on the test set and plotting a **confusion matrix**. The **confusion matrix** shows the **ground truth** values on the **horizontal axis** as well as the **predicted values** on the **vertical axis**. The resulting grid then displays frequency of the outcomes of prediction -- whether the label was `True` and the model predicted `False`, or any combination of label values vs prediction values."
   ]
  },
  {
   "cell_type": "code",
   "execution_count": null,
   "id": "be74232e",
   "metadata": {},
   "outputs": [],
   "source": [
    "pass"
   ]
  },
  {
   "cell_type": "markdown",
   "id": "0f12021d",
   "metadata": {},
   "source": [
    "### Observations <a name=\"obs1\">\n",
    "\n",
    "Here we see that we obtained an **Accuracy** of around 90%, and an F1 Score of 60%. Notice how we are using these two metrics instead of $R^2$, which was used in linear regression. The accuracy metric measures the number of correct predictions vs the total predictions, and the F1 Score is a combination of precision and recall. Furthermore, the confusion matrix gives us a sense of what actually happened with all the predictions. Let's fill out the observations table down below:\n",
    "\n",
    "\n",
    "| Model | Observations | Accuracy | F1 |\n",
    "|:----- |:------------| :--------| :--- |\n",
    "   \n",
    "---"
   ]
  },
  {
   "cell_type": "markdown",
   "id": "33af2c14",
   "metadata": {},
   "source": [
    "## Multi-Class Classification <a name=\"multi\">\n",
    "\n",
    "Most of the classification problems nowadays deal with predicting across multiple classes. For example, *is this a picture of a cat, dog, bird, or horse?* One naive way of performing multi-class classification is to assign integer labels to each class:\n",
    "    \n",
    "    - cat: 0\n",
    "    - dog: 1\n",
    "    - bird: 2\n",
    "    - horse: 3\n",
    "\n",
    "This however becomes a **regression problem** -- rather, a **poorly performing** one at best, and since these integers are comparable, there is a chance that the model can learn a `cat`< `dog` < `bird` < `horse` relation. It is worth saying that sklearn allows you to label classes like this, however behind the scenes, it is converting this label encoding into **One-Hot Encoding**\n",
    "    \n",
    "### One vs All <a name=\"onevall\">\n",
    "\n",
    "Consider training 4 Binary Classifiers: the first one predicts on whether it is a picture of a cat or not, the second one predicts whether it is a picture of a dog or not, and so on. This is called **One vs All** classification -- for each classifier, you are setting one class as the output $\\hat{y} = 1$, and the rest of the classes as $\\hat{y} = 0$.\n",
    "    \n",
    "This affirms the idea mentioned above that *Binary Classification forms the basis of more advanced classification methods [multi-class]*. Each class is effectively governed by its own binary classifier, and the final prediction is decided by which ever classifier outputs the **largest value**.\n",
    "    \n",
    "### One-Hot Encoding <a name=\"onehot\">\n",
    "    \n",
    "When training a multi-class model, since you are effectively training multiple classifiers, each classifier needs an output label. These labels can be stored into an `np.array` as shown:\n",
    "    \n",
    "```python\n",
    "    \n",
    "# Individual examples\n",
    "cat = np.array([[1, 0, 0, 0]])\n",
    "dog = np.array([[0, 1, 0, 0]])\n",
    "bird = np.array([[0, 0, 1, 0]])\n",
    "horse = np.array([[0, 0, 0, 1]])\n",
    "    \n",
    "# Labels set\n",
    "Y_train = np.array([\n",
    "    [1 ,0, 0, 0],  # cat\n",
    "    [0, 0, 1, 0],  # bird\n",
    "    [0, 1, 0, 0]   # dog\n",
    "    ...\n",
    "])\n",
    "```\n",
    "    \n",
    "This is called **One-Hot Encoding**, where the true class is labeled with a 1, and everywhere else is labeled with a 0.\n",
    "    \n",
    "### Choosing our Features <a name=\"choosingf\">\n",
    "    \n",
    "We are going to train a Multi-class Logistic Regression Classifier to predict whether the pokemon is **Fire, Water, Grass, or None of the Above (NA)**. First, we will print out the `dataset` to give ourselves a little refresher."
   ]
  },
  {
   "cell_type": "code",
   "execution_count": null,
   "id": "7ae7dcb1",
   "metadata": {},
   "outputs": [],
   "source": [
    "pass"
   ]
  },
  {
   "cell_type": "markdown",
   "id": "686f484b",
   "metadata": {},
   "source": [
    "One thing to ask ourselves when choosing features is *What features are possibly related to the problem?* After all, using `weight_kg` as a feature to predict the type of pokemon is probably not the best idea. Here, we will choose the features that tell us how well a Pokemon of a certain type does **against another type**. For example, an **Ice** type Pokemon might do very well against **Fire**, but not so well against other **Ice** types."
   ]
  },
  {
   "cell_type": "code",
   "execution_count": null,
   "id": "a064b97e",
   "metadata": {},
   "outputs": [],
   "source": [
    "pass"
   ]
  },
  {
   "cell_type": "markdown",
   "id": "48ed522f",
   "metadata": {},
   "source": [
    "### Choosing our Labels <a name=\"choosingl\">\n",
    "    \n",
    "For this classification problem, we want to make **One-Hot encodings** of the types `\"Fire\", \"Water\", \"Grass\", \"NA\"`. Looking at the `dataset`, we can see the `type1` column containing the primary types of the Pokemon. These are currently stored as datatype `string`, however we want to convert them to integers. `pd.get_dummies()` is a function that will create One-Hot encoding of all the different values of strings it sees in a column and store it as a spearate dataset."
   ]
  },
  {
   "cell_type": "code",
   "execution_count": null,
   "id": "cb38d5dc",
   "metadata": {
    "scrolled": false
   },
   "outputs": [],
   "source": [
    "pass"
   ]
  },
  {
   "cell_type": "markdown",
   "id": "f76e405b",
   "metadata": {},
   "source": [
    "From the 18 columns in `type1_dummies`, we will only need 3 columns. These three columns (`\"type1_fire, type1_water, type1_grass\"`) are stored back into `dataset` as new columns. The `\"NA\"` column is created via the logic of `not(\"Fire\" or \"Water\" or \"Grass\")`."
   ]
  },
  {
   "cell_type": "code",
   "execution_count": null,
   "id": "a3ffdd2e",
   "metadata": {},
   "outputs": [],
   "source": [
    "pass"
   ]
  },
  {
   "cell_type": "code",
   "execution_count": null,
   "id": "98591fcc",
   "metadata": {},
   "outputs": [],
   "source": [
    "pass"
   ]
  },
  {
   "cell_type": "code",
   "execution_count": null,
   "id": "f6890bae",
   "metadata": {},
   "outputs": [],
   "source": [
    "pass"
   ]
  },
  {
   "cell_type": "markdown",
   "id": "4bf8a7d4",
   "metadata": {},
   "source": [
    "### Training the Multi-Class Classifier <a name=\"train_m\">\n",
    "\n",
    "Remember how training a multi-class classifier is like training a bunch of binary classifiers based on how many classes you have? When it comes to implementing a multi-class classifier in SKLearn, we will fit a `LogisticRegressionCV()` object **within** a `OneVsRestClassifier()` object, which effectively **creates multiple** `LogisticRegressionCV()` classifiers for binary classification of each class."
   ]
  },
  {
   "cell_type": "code",
   "execution_count": null,
   "id": "4e012147",
   "metadata": {},
   "outputs": [],
   "source": [
    "pass"
   ]
  },
  {
   "cell_type": "code",
   "execution_count": null,
   "id": "02611c00",
   "metadata": {},
   "outputs": [],
   "source": [
    "pass"
   ]
  },
  {
   "cell_type": "markdown",
   "id": "ed358060",
   "metadata": {},
   "source": [
    "### Observations <a name=\"obs2\">\n",
    "\n",
    "We were able to obtain an accuracy of about 95% as well as an F1 Score of 97%, which is fantastic. Looking at the confusion matrix, we can see very good testing accuracy with select few misclassifications. Let's popoulate the observations table:\n",
    "    \n",
    "| Model | Observations | Accuracy | F1 |\n",
    "|:----- |:------------| :--------| :--- |   \n",
    "    \n",
    "---"
   ]
  },
  {
   "cell_type": "markdown",
   "id": "1f9fc986",
   "metadata": {},
   "source": [
    "## $\\mathcal{Fin}$\n",
    "\n",
    "Congrats on making it to the end of this Notebook! Our next activity is to create a Logistic Regression Classifier in **Pytorch** to predict whether or not you should buy an SUV.\n",
    "![umaru.png](data:image/png;base64,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)"
   ]
  },
  {
   "cell_type": "code",
   "execution_count": null,
   "id": "407b5b9b",
   "metadata": {},
   "outputs": [],
   "source": []
  }
 ],
 "metadata": {
  "kernelspec": {
   "display_name": "Python 3",
   "language": "python",
   "name": "python3"
  },
  "language_info": {
   "codemirror_mode": {
    "name": "ipython",
    "version": 3
   },
   "file_extension": ".py",
   "mimetype": "text/x-python",
   "name": "python",
   "nbconvert_exporter": "python",
   "pygments_lexer": "ipython3",
   "version": "3.9.2"
  }
 },
 "nbformat": 4,
 "nbformat_minor": 5
}
